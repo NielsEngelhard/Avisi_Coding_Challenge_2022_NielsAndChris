{
 "cells": [
  {
   "cell_type": "markdown",
   "id": "f8654e06",
   "metadata": {},
   "source": [
    "# Read tuples from file and map them to Tuple object"
   ]
  },
  {
   "cell_type": "code",
   "execution_count": 17,
   "id": "4a1370d1",
   "metadata": {},
   "outputs": [],
   "source": [
    "class Tuple:\n",
    "    x: int\n",
    "    y: int\n",
    "    def print_tuple(self):\n",
    "        print(\"x: \" + str(self.x) + \" y: \" + str(self.y))\n",
    "\n",
    "def read_tuples_as_string_from_file(filename):\n",
    "    with open(filename, 'r') as file:\n",
    "        lines = file.readlines()\n",
    "        tuples_as_string = lines[0]\n",
    "        return tuples_as_string\n",
    "    \n",
    "def get_tuples_as_obj_list(filename):\n",
    "    return_list = []\n",
    "    \n",
    "    tuples_as_string = read_tuples_as_string_from_file(filename)\n",
    "    \n",
    "    tuples_as_list = tuples_as_string.split(')')\n",
    "    \n",
    "    for str_tpl in tuples_as_list:\n",
    "        \n",
    "        if len(str_tpl) > 0:    \n",
    "            if str_tpl[0] == ',':\n",
    "                str_tpl = str_tpl[1:]\n",
    "\n",
    "            if str_tpl[0] == '(':\n",
    "                str_tpl = str_tpl[1:]\n",
    "        \n",
    "            coords = str_tpl.split(',')\n",
    "            \n",
    "            tuple_to_add = Tuple()\n",
    "            tuple_to_add.x = int(coords[0])\n",
    "            tuple_to_add.y = int(coords[1])\n",
    "            return_list.append(tuple_to_add)\n",
    "    return return_list\n",
    "\n",
    "def print_tuple_list(tuple_list):\n",
    "    for t in tuple_list:\n",
    "        t.print_tuple()"
   ]
  },
  {
   "cell_type": "code",
   "execution_count": 18,
   "id": "b95df7fa",
   "metadata": {},
   "outputs": [
    {
     "name": "stdout",
     "output_type": "stream",
     "text": [
      "x: 1 y: 6\n",
      "x: 3 y: 6\n",
      "x: 3 y: 3\n",
      "x: 5 y: 3\n",
      "x: 5 y: 2\n",
      "x: 4 y: 2\n",
      "x: 4 y: 1\n",
      "x: 1 y: 1\n",
      "x: 1 y: 3\n",
      "x: 2 y: 3\n",
      "x: 2 y: 5\n",
      "x: 1 y: 5\n",
      "x: 1 y: 6\n"
     ]
    }
   ],
   "source": [
    "tuple_list = get_tuples_as_obj_list(\"./example_tuples.txt\")\n",
    "print_tuple_list(tuple_list)\n",
    "    "
   ]
  },
  {
   "cell_type": "code",
   "execution_count": null,
   "id": "a61c822e",
   "metadata": {},
   "outputs": [],
   "source": []
  }
 ],
 "metadata": {
  "kernelspec": {
   "display_name": "Python 3 (ipykernel)",
   "language": "python",
   "name": "python3"
  },
  "language_info": {
   "codemirror_mode": {
    "name": "ipython",
    "version": 3
   },
   "file_extension": ".py",
   "mimetype": "text/x-python",
   "name": "python",
   "nbconvert_exporter": "python",
   "pygments_lexer": "ipython3",
   "version": "3.8.10"
  },
  "vscode": {
   "interpreter": {
    "hash": "0e07b582a8edbe8c22db1d4f48a462c7c1f788f91e003ebfeefba3f40d4f2143"
   }
  }
 },
 "nbformat": 4,
 "nbformat_minor": 5
}
