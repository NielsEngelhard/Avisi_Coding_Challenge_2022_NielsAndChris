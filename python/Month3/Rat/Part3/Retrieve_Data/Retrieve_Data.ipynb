{
 "cells": [
  {
   "cell_type": "markdown",
   "id": "5370bab2",
   "metadata": {},
   "source": [
    "# Retrieve data from A_API\n",
    "\n",
    "- A lot of requests must be made because it must be precise to the millisecond! 10 requests per second is no luxury. 2 requests per second was too little.\n"
   ]
  },
  {
   "cell_type": "code",
   "execution_count": 13,
   "id": "30f2bb82",
   "metadata": {},
   "outputs": [],
   "source": [
    "import requests\n",
    "import json\n",
    "import datetime as datetime\n",
    "\n",
    "class RatLocationResponse:\n",
    "    x_position: float\n",
    "    y_position: float\n",
    "    timestamp: str\n",
    "        \n",
    "    def print_resp(self):\n",
    "        print(\"x: \" + str(self.x_position) + \" y: \" + str(self.y_position) + \" timestamp: \" + self.timestamp)\n",
    "    def to_json_string(self):\n",
    "        return ('{ \"x_position\": ' + str(self.x_position) + ', \"y_position\": ' + str(self.y_position) + ', \"timestamp\": \"' + self.timestamp + '\" }')\n",
    "    \n",
    "def get_current_rat_location():\n",
    "    response = requests.get('https://acc.avisilabs.nl/api/rat/position?secret=e41b0ea1-6693-403e-9b87-a2ebbc7284cb')\n",
    "    \n",
    "    if response.status_code != 200:\n",
    "        print(\"Something went wrong while sending requests. Status code was: \" + str(response.status_code))\n",
    "    \n",
    "    js_rs = response.json\n",
    "    json_as_string = json.dumps(js_rs())\n",
    "    json_obj = json.loads(json_as_string)\n",
    "    return rat_response_to_object(json_obj)\n",
    "\n",
    "def rat_response_to_object(rat_response):\n",
    "    object_to_return = RatLocationResponse()\n",
    "    \n",
    "    object_to_return.x_position = rat_response['position']['x']\n",
    "    object_to_return.y_position = rat_response['position']['y']\n",
    "    object_to_return.timestamp = rat_response['timestamp']\n",
    "    object_to_return.request_send_datetime = datetime.datetime.now()\n",
    "    \n",
    "    return object_to_return\n",
    "\n",
    "def write_rate_location_to_csv(rat_location_obj, file_to_store_data_in):\n",
    "    with open(file_to_store_data_in, 'a') as hs:\n",
    "        hs.write(rat_location_obj.to_json_string())\n",
    "        hs.write(\"\\n\")"
   ]
  },
  {
   "cell_type": "code",
   "execution_count": 35,
   "id": "7ba88c81",
   "metadata": {},
   "outputs": [],
   "source": [
    "import time\n",
    "\n",
    "def endlessly_call_api_for_rat_data():\n",
    "    index = 0\n",
    "    file_line_limit = 300000 # 250000\n",
    "    \n",
    "    print(\"The spamming begins :-)\")\n",
    "    \n",
    "    while True:\n",
    "        current_file_i = int(index / file_line_limit)\n",
    "        \n",
    "        rat_location = get_current_rat_location()\n",
    "        \n",
    "        file_location = \"./FromAPI/data_from_api\" + str(current_file_i) + \".txt\"\n",
    "        \n",
    "        write_rate_location_to_csv(rat_location, file_location)\n",
    "        index += 1\n",
    "        time.sleep(0.1)"
   ]
  },
  {
   "cell_type": "code",
   "execution_count": 36,
   "id": "41913311",
   "metadata": {},
   "outputs": [
    {
     "name": "stdout",
     "output_type": "stream",
     "text": [
      "The spamming begins :-)\n"
     ]
    },
    {
     "ename": "KeyboardInterrupt",
     "evalue": "",
     "output_type": "error",
     "traceback": [
      "\u001b[1;31m--------------------------------------------------------------------\u001b[0m",
      "\u001b[1;31mKeyboardInterrupt\u001b[0m                  Traceback (most recent call last)",
      "Cell \u001b[1;32mIn [36], line 1\u001b[0m\n\u001b[1;32m----> 1\u001b[0m \u001b[43mendlessly_call_api_for_rat_data\u001b[49m\u001b[43m(\u001b[49m\u001b[43m)\u001b[49m\n",
      "Cell \u001b[1;32mIn [35], line 18\u001b[0m, in \u001b[0;36mendlessly_call_api_for_rat_data\u001b[1;34m()\u001b[0m\n\u001b[0;32m     16\u001b[0m write_rate_location_to_csv(rat_location, file_location)\n\u001b[0;32m     17\u001b[0m index \u001b[38;5;241m+\u001b[39m\u001b[38;5;241m=\u001b[39m \u001b[38;5;241m1\u001b[39m\n\u001b[1;32m---> 18\u001b[0m \u001b[43mtime\u001b[49m\u001b[38;5;241;43m.\u001b[39;49m\u001b[43msleep\u001b[49m\u001b[43m(\u001b[49m\u001b[38;5;241;43m0.1\u001b[39;49m\u001b[43m)\u001b[49m\n",
      "\u001b[1;31mKeyboardInterrupt\u001b[0m: "
     ]
    }
   ],
   "source": [
    "endlessly_call_api_for_rat_data()"
   ]
  },
  {
   "cell_type": "code",
   "execution_count": null,
   "id": "c4a0824b",
   "metadata": {},
   "outputs": [],
   "source": []
  }
 ],
 "metadata": {
  "kernelspec": {
   "display_name": "Python 3 (ipykernel)",
   "language": "python",
   "name": "python3"
  },
  "language_info": {
   "codemirror_mode": {
    "name": "ipython",
    "version": 3
   },
   "file_extension": ".py",
   "mimetype": "text/x-python",
   "name": "python",
   "nbconvert_exporter": "python",
   "pygments_lexer": "ipython3",
   "version": "3.8.10"
  },
  "vscode": {
   "interpreter": {
    "hash": "0e07b582a8edbe8c22db1d4f48a462c7c1f788f91e003ebfeefba3f40d4f2143"
   }
  }
 },
 "nbformat": 4,
 "nbformat_minor": 5
}
