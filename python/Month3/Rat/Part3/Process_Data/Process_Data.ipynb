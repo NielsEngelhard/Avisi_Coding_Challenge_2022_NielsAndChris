{
 "cells": [
  {
   "cell_type": "markdown",
   "id": "0e46d75c",
   "metadata": {},
   "source": [
    "# Process Data from files\n",
    "\n",
    "- Pre requisities: have multiple files with loops"
   ]
  },
  {
   "cell_type": "markdown",
   "id": "594d60de",
   "metadata": {},
   "source": [
    "# Date time helper functions"
   ]
  },
  {
   "cell_type": "code",
   "execution_count": 2,
   "id": "b1f022bb",
   "metadata": {},
   "outputs": [],
   "source": [
    "# Turn Avisi Datetime string to python DateTime object\n",
    "def avisi_str_to_datetime(avisi_str):\n",
    "    dt_pattern = pattern = '%Y-%m-%dT%H:%M:%S.%fZ' # pattern of how api passes date times. The Z at the end indicates UTC time\n",
    "    return dt.datetime.strptime(avisi_str, dt_pattern)\n",
    "\n",
    "# express date time as a floating number\n",
    "def datetime_to_float(d):\n",
    "    return d.timestamp()\n",
    "\n",
    "def float_to_datetime(f):\n",
    "    return dt.datetime.fromtimestamp(f)\n",
    "\n",
    "def datetime_to_avisi_str(dtime):\n",
    "    return dtime.strftime('%Y-%m-%dT%H:%M:%S.%fZ')"
   ]
  },
  {
   "cell_type": "markdown",
   "id": "d8b85e6c",
   "metadata": {},
   "source": [
    "# Plotting data from file in line"
   ]
  },
  {
   "cell_type": "code",
   "execution_count": 5,
   "id": "57e939bb",
   "metadata": {},
   "outputs": [],
   "source": [
    "def get_data_x_position_coordinates_by_file_name(file_name):\n",
    "    big_data_x_coordinates = []\n",
    "\n",
    "    with open(file_name, 'r') as file:\n",
    "        lines = file.readlines()\n",
    "\n",
    "        for line in lines:\n",
    "            coordinate = []\n",
    "            json_line = json.loads(line)\n",
    "\n",
    "            datetime_obj = avisi_str_to_datetime(json_line['timestamp'])\n",
    "            datetime_as_float = datetime_to_float(datetime_obj)\n",
    "\n",
    "            coordinate.append(datetime_as_float)\n",
    "            coordinate.append(json_line['x_position'])\n",
    "            big_data_x_coordinates.append(coordinate)\n",
    "\n",
    "    return big_data_x_coordinates\n",
    "\n",
    "def get_data_y_position_coordinates_by_file_name(file_name):\n",
    "    big_data_y_coordinates = []\n",
    "\n",
    "    with open(file_name, 'r') as file:\n",
    "        lines = file.readlines()\n",
    "\n",
    "        for line in lines:\n",
    "            coordinate = []\n",
    "            json_line = json.loads(line)\n",
    "\n",
    "            datetime_obj = avisi_str_to_datetime(json_line['timestamp'])\n",
    "            datetime_as_float = datetime_to_float(datetime_obj)\n",
    "\n",
    "            coordinate.append(datetime_as_float)\n",
    "            coordinate.append(json_line['y_position'])\n",
    "            big_data_y_coordinates.append(coordinate)\n",
    "\n",
    "    return big_data_y_coordinates\n",
    "\n",
    "def plot_rat_run_by_file(file_name, x_or_y = \"x\", plot_name=\"NO_NAME\"):\n",
    "    full_coords = []\n",
    "    \n",
    "    if x_or_y == \"x\":\n",
    "        full_coords = get_data_x_position_coordinates_by_file_name(file_name)\n",
    "    else:\n",
    "        full_coords = get_data_y_position_coordinates_by_file_name(file_name)\n",
    "\n",
    "    plt.plot(*zip(*full_coords))\n",
    "    plt.title(plot_name)"
   ]
  },
  {
   "cell_type": "code",
   "execution_count": null,
   "id": "d3caa5fa",
   "metadata": {},
   "outputs": [],
   "source": [
    "plot_rat_run_by_file(RAT_RUN_NAME, \"x\", \"NAME\")"
   ]
  },
  {
   "cell_type": "markdown",
   "id": "4aeefb32",
   "metadata": {},
   "source": [
    "# Actual plotting"
   ]
  },
  {
   "cell_type": "code",
   "execution_count": 6,
   "id": "30a0198a",
   "metadata": {},
   "outputs": [],
   "source": [
    "total_duration_as_float_all = []\n",
    "\n",
    "# The input of this function should be exactly 1 completed rat run in a txt file\n",
    "def print_single_rat_run_info(file_location):\n",
    "    with open(file_location, 'r') as file:\n",
    "        lines = file.readlines()\n",
    "\n",
    "        first_line = json.loads(lines[0])\n",
    "        last_line = json.loads(lines[len(lines)-1])\n",
    "        \n",
    "        first_line_timestamp_float = datetime_to_float(avisi_str_to_datetime(first_line['timestamp']))\n",
    "        last_line_timestamp_float = datetime_to_float(avisi_str_to_datetime(last_line['timestamp']))\n",
    "        \n",
    "        total_duration_as_float = last_line_timestamp_float - first_line_timestamp_float\n",
    "        total_duration_as_float_all.append(total_duration_as_float)\n",
    "        \n",
    "        start_dt_object = dt.datetime.fromtimestamp(first_line_timestamp_float)\n",
    "        end_dt_object = dt.datetime.fromtimestamp(last_line_timestamp_float)\n",
    "        \n",
    "        print(file_location + \" duration: \" + str(end_dt_object - start_dt_object) + \" as float: \" + str(total_duration_as_float))\n",
    "\n",
    "def print_all_single_rat_runs_in_folder(folder_location, n_of_runs):\n",
    "    file_location_and_name = folder_location + \"/complete_rat_run\" + str(index) + \".txt\"\n",
    "    \n",
    "    for x in range(0, n_of_runs):\n",
    "        print(\"Doing rat_run \" + str(x))\n",
    "        print_single_rat_run_info(file_location_and_name)"
   ]
  },
  {
   "cell_type": "code",
   "execution_count": null,
   "id": "7a8d26d0",
   "metadata": {},
   "outputs": [],
   "source": [
    "# Call\n",
    "print_all_single_rat_runs_in_folder(FOLDER_NAME, N_RUNS)"
   ]
  }
 ],
 "metadata": {
  "kernelspec": {
   "display_name": "Python 3 (ipykernel)",
   "language": "python",
   "name": "python3"
  },
  "language_info": {
   "codemirror_mode": {
    "name": "ipython",
    "version": 3
   },
   "file_extension": ".py",
   "mimetype": "text/x-python",
   "name": "python",
   "nbconvert_exporter": "python",
   "pygments_lexer": "ipython3",
   "version": "3.8.10"
  },
  "vscode": {
   "interpreter": {
    "hash": "0e07b582a8edbe8c22db1d4f48a462c7c1f788f91e003ebfeefba3f40d4f2143"
   }
  }
 },
 "nbformat": 4,
 "nbformat_minor": 5
}
