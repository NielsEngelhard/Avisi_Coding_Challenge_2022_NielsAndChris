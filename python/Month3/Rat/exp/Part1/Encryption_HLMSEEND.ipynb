{
 "cells": [
  {
   "cell_type": "code",
   "execution_count": 1,
   "id": "c27a938c",
   "metadata": {},
   "outputs": [],
   "source": [
    "alf_list = ['a', 'b', 'c', 'd', 'e', 'f','g','h','i','j','k','l','m','n','o','p','q','r','s', 't', 'u', 'v', 'w', 'x', 'y', 'z']\n",
    "\n",
    "for x in range(0,26):\n",
    "   alf_list[x] \n",
    "    "
   ]
  },
  {
   "cell_type": "code",
   "execution_count": 2,
   "id": "f9dbf116",
   "metadata": {},
   "outputs": [
    {
     "name": "stdout",
     "output_type": "stream",
     "text": [
      "26\n"
     ]
    }
   ],
   "source": [
    "print(str(len(alf_list)))"
   ]
  },
  {
   "cell_type": "code",
   "execution_count": 3,
   "id": "b2c9e2a6",
   "metadata": {},
   "outputs": [],
   "source": [
    "message = 'WEJALTYBTXPBRJGDNKYGFCRZSPUWBPPVDEFAANKWNLSQVCTDBCJFITMDKYFZVGNXRZTKVLVZOGXJBOWJZNJNZLMHQLHLXGDSCYVNQTKDMFBNHKDCHYGUZEESGYTQIFPUDSTKCGIKGQLIQCZUWDCSXGEEIDMCAWQWMPDBIPGWFJAEEYKFYXTTVAZDDWKYXECXGQDAFWXFJMDTCZDNHCUFGFDISNMVCUFJKWEDGOQBFDZQPCCUZPQDNGEDQWLVLUUMJGDULSRUXJQRBOVJIIWSBCRVODPGARHDHZZCPCYLMSPASKBPMRBIILCIOXTHHAYSKSAXSBXBGMSXUJJLOUACLEXZMYPITGHICKCNUBZPEMTPBUBBVRUZDHBUVVAGROGMPHOPINQUMAJDPNTOGVNHNVSBJGALMVMXBQENZLYBMKHGSYMLYRGHPQQPJWUTKATZRYUDWMIKSIQDCVWSQWOGGJNBJZSVFIHUNLZKGUFMDGQCGIKXXWZTDZWMQJQDHZPHURVCQACBZWFIALLNYGAZWIRPVMKEGJQBMUDLLFWRPIAFYO'"
   ]
  },
  {
   "cell_type": "code",
   "execution_count": null,
   "id": "b094a98d",
   "metadata": {},
   "outputs": [],
   "source": []
  }
 ],
 "metadata": {
  "kernelspec": {
   "display_name": "Python 3 (ipykernel)",
   "language": "python",
   "name": "python3"
  },
  "language_info": {
   "codemirror_mode": {
    "name": "ipython",
    "version": 3
   },
   "file_extension": ".py",
   "mimetype": "text/x-python",
   "name": "python",
   "nbconvert_exporter": "python",
   "pygments_lexer": "ipython3",
   "version": "3.8.10"
  },
  "vscode": {
   "interpreter": {
    "hash": "0e07b582a8edbe8c22db1d4f48a462c7c1f788f91e003ebfeefba3f40d4f2143"
   }
  }
 },
 "nbformat": 4,
 "nbformat_minor": 5
}
