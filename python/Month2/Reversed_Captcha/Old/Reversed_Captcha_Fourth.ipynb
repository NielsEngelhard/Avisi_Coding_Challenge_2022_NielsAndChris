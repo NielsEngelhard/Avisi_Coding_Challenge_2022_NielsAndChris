{
 "cells": [
  {
   "cell_type": "code",
   "execution_count": 1,
   "id": "e38be781",
   "metadata": {},
   "outputs": [],
   "source": [
    "# Get all labels to print\n",
    "import json\n",
    "\n",
    "# return the wordnetsysnet\n",
    "def get_all_labels_name():\n",
    "    f = open(r\"C:\\Users\\niels\\Downloads\\Reverse Captcha\\labels.json\")\n",
    "  \n",
    "    # returns JSON object as \n",
    "    # a dictionary\n",
    "    data = json.load(f)\n",
    "\n",
    "    labels_to_get = []\n",
    "    for i in range(0, 1000): # because 1000 records\n",
    "        #print(data[i]['label'])\n",
    "        labels_to_get.append(data[i]['label'])\n",
    "    f.close()\n",
    "    #print(labels_to_get)\n",
    "    return labels_to_get"
   ]
  },
  {
   "cell_type": "code",
   "execution_count": null,
   "id": "8e28f83b",
   "metadata": {},
   "outputs": [],
   "source": []
  }
 ],
 "metadata": {
  "kernelspec": {
   "display_name": "Python 3 (ipykernel)",
   "language": "python",
   "name": "python3"
  },
  "language_info": {
   "codemirror_mode": {
    "name": "ipython",
    "version": 3
   },
   "file_extension": ".py",
   "mimetype": "text/x-python",
   "name": "python",
   "nbconvert_exporter": "python",
   "pygments_lexer": "ipython3",
   "version": "3.10.8"
  },
  "vscode": {
   "interpreter": {
    "hash": "0e07b582a8edbe8c22db1d4f48a462c7c1f788f91e003ebfeefba3f40d4f2143"
   }
  }
 },
 "nbformat": 4,
 "nbformat_minor": 5
}
